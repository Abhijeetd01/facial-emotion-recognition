{
 "cells": [
  {
   "cell_type": "markdown",
   "metadata": {
    "deletable": true,
    "editable": true
   },
   "source": [
    "## Data visualization and processing\n",
    "\n",
    "first import all required libraries and load data into pandas data frame\n"
   ]
  },
  {
   "cell_type": "code",
   "execution_count": 1,
   "metadata": {
    "collapsed": false,
    "deletable": true,
    "editable": true
   },
   "outputs": [
    {
     "name": "stderr",
     "output_type": "stream",
     "text": [
      "Using TensorFlow backend.\n"
     ]
    }
   ],
   "source": [
    "import pandas as pd\n",
    "import numpy as np\n",
    "import matplotlib.pyplot as plt\n",
    "import matplotlib\n",
    "import random\n",
    "import brewer2mpl\n",
    "from keras.utils.np_utils import to_categorical\n",
    "\n",
    "\n",
    "set3 = brewer2mpl.get_map('Set3', 'qualitative', 6).mpl_colors\n",
    "\n",
    "\n",
    "%matplotlib inline\n",
    "\n",
    "df = pd.read_csv('data/fer2013/fer2013.csv')\n",
    "emotions={0:\"Angry\", 1:\"Disgust\", 2:\"Fear\", 3:\"Happy\", 4:\"Sad\", 5:\"Surprise\", 6:\"Neutral\"}"
   ]
  },
  {
   "cell_type": "markdown",
   "metadata": {
    "deletable": true,
    "editable": true
   },
   "source": [
    "find number fo training samples,number of test samples,understand data features"
   ]
  },
  {
   "cell_type": "code",
   "execution_count": 2,
   "metadata": {
    "collapsed": false,
    "deletable": true,
    "editable": true
   },
   "outputs": [
    {
     "name": "stdout",
     "output_type": "stream",
     "text": [
      "\n",
      "FERC-2013 DATASET\n",
      "\n",
      "Data columns ['emotion' 'pixels' 'Usage']\n",
      "\n",
      "Unique Usage values ['Training' 'PublicTest' 'PrivateTest']\n",
      "\n",
      "Various usage size:\n",
      "\n",
      "--- Training 28709\n",
      "--- PublicTest 3589\n",
      "--- PrivateTest 3589\n",
      "\n",
      "Merging private and public dataset\n",
      "\n",
      "New dataset usage size:\n",
      "\n",
      "--- Training 28709\n",
      "--- Testing 7178\n"
     ]
    }
   ],
   "source": [
    "print \"\\nFERC-2013 DATASET\"\n",
    "print \"\\nData columns\",df.columns.values\n",
    "\n",
    "print \"\\nUnique Usage values\",df.Usage.unique()\n",
    "\n",
    "print \"\\nVarious usage size:\\n\"\n",
    "\n",
    "for usage in df.Usage.unique():\n",
    "    print \"---\",usage,len(df[df.Usage==usage].index)\n",
    "    \n",
    "print \"\\nMerging private and public dataset\"\n",
    "\n",
    "df.ix[df.Usage==\"PublicTest\",\"Usage\"]=\"Testing\"\n",
    "df.ix[df.Usage==\"PrivateTest\",\"Usage\"]=\"Testing\"\n",
    "\n",
    "print \"\\nNew dataset usage size:\\n\"\n",
    "\n",
    "for usage in df.Usage.unique():\n",
    "    print \"---\",usage,len(df[df.Usage==usage].index)\n",
    "\n"
   ]
  },
  {
   "cell_type": "markdown",
   "metadata": {
    "deletable": true,
    "editable": true
   },
   "source": [
    "## Distribution of various emotions in training and test dataset\n"
   ]
  },
  {
   "cell_type": "code",
   "execution_count": 3,
   "metadata": {
    "collapsed": false,
    "deletable": true,
    "editable": true
   },
   "outputs": [],
   "source": [
    "def plot_bar_graph( y ,xlabels):\n",
    "    fig = plt.figure(figsize=(12,3))\n",
    "    ax = fig.add_subplot(1,6,6)\n",
    "    ax.bar(np.arange(0,len(y)), y, color=set3,alpha=0.5)\n",
    "    ax.set_xticklabels(xlabels, rotation=90, fontsize=10)\n",
    "    \n",
    "    ax.set_xticks(np.arange(0.5,len(y)+0.5,1))\n",
    "    \n",
    "    for i, v in enumerate(y):\n",
    "        ax.text(i+0.25, v, str(v), color='blue', fontweight='bold',rotation=90,)\n",
    "    plt.tight_layout()\n",
    "    plt.show()"
   ]
  },
  {
   "cell_type": "code",
   "execution_count": 4,
   "metadata": {
    "collapsed": false,
    "deletable": true,
    "editable": true
   },
   "outputs": [
    {
     "name": "stdout",
     "output_type": "stream",
     "text": [
      "Training data \n"
     ]
    },
    {
     "data": {
      "image/png": "[encoded data removed]",
      "text/plain": [
       "<matplotlib.figure.Figure at 0x7f681c03e410>"
      ]
     },
     "metadata": {},
     "output_type": "display_data"
    },
    {
     "name": "stdout",
     "output_type": "stream",
     "text": [
      "Testing data \n"
     ]
    },
    {
     "data": {
      "image/png": "[encoded data removed]",
      "text/plain": [
       "<matplotlib.figure.Figure at 0x7f67de9588d0>"
      ]
     },
     "metadata": {},
     "output_type": "display_data"
    }
   ],
   "source": [
    "training_dataset=df[df.Usage==\"Training\"]\n",
    "testing_dataset=df[df.Usage==\"Testing\"]\n",
    "\n",
    "print \"Training data \"\n",
    "\n",
    "sizes=[]\n",
    "for i in emotions.keys():\n",
    "    sizes.append(len(training_dataset[training_dataset.emotion==i].index))\n",
    "    \n",
    "plot_bar_graph(sizes,emotions.values())\n",
    "\n",
    "print \"Testing data \"\n",
    "\n",
    "sizes=[]\n",
    "for i in emotions.keys():\n",
    "    sizes.append(len(testing_dataset[testing_dataset.emotion==i].index))\n",
    "    \n",
    "plot_bar_graph(sizes,emotions.values())"
   ]
  },
  {
   "cell_type": "markdown",
   "metadata": {
    "deletable": true,
    "editable": true
   },
   "source": [
    "As we observed from the size of  samples for various emotions,number of samples for disgusting class is very less.Hence if we keep this label for training then our model won't be able to detect this emotion accurately. So We will merge Disgust and Angry samples to one single sample Angry\n"
   ]
  },
  {
   "cell_type": "code",
   "execution_count": 5,
   "metadata": {
    "collapsed": false,
    "deletable": true,
    "editable": true
   },
   "outputs": [
    {
     "name": "stderr",
     "output_type": "stream",
     "text": [
      "/home/swaraj/.local/lib/python2.7/site-packages/pandas/core/indexing.py:477: SettingWithCopyWarning: \n",
      "A value is trying to be set on a copy of a slice from a DataFrame.\n",
      "Try using .loc[row_indexer,col_indexer] = value instead\n",
      "\n",
      "See the caveats in the documentation: http://pandas.pydata.org/pandas-docs/stable/indexing.html#indexing-view-versus-copy\n",
      "  self.obj[item] = s\n"
     ]
    },
    {
     "name": "stdout",
     "output_type": "stream",
     "text": [
      "Modified Training data \n"
     ]
    },
    {
     "data": {
      "image/png": "[encoded data removed]",
      "text/plain": [
       "<matplotlib.figure.Figure at 0x7f67eda66810>"
      ]
     },
     "metadata": {},
     "output_type": "display_data"
    },
    {
     "name": "stdout",
     "output_type": "stream",
     "text": [
      "Modified Testing data \n"
     ]
    },
    {
     "data": {
      "image/png": "[encoded data removed]",
      "text/plain": [
       "<matplotlib.figure.Figure at 0x7f67de7c8c50>"
      ]
     },
     "metadata": {},
     "output_type": "display_data"
    }
   ],
   "source": [
    "training_dataset.loc[training_dataset.emotion==0,\"emotion\"]=1\n",
    "testing_dataset.loc[testing_dataset.emotion==0,\"emotion\"]=1\n",
    "\n",
    "\n",
    "print \"Modified Training data \"\n",
    "emotions[1]=emotions[0]\n",
    "del emotions[0]\n",
    "\n",
    "sizes=[]\n",
    "for i in emotions.keys():\n",
    "    sizes.append(len(training_dataset[training_dataset.emotion==i].index))\n",
    "    \n",
    "plot_bar_graph(sizes,emotions.values())\n",
    "\n",
    "print \"Modified Testing data \"\n",
    "\n",
    "sizes=[]\n",
    "for i in emotions.keys():\n",
    "    sizes.append(len(testing_dataset[testing_dataset.emotion==i].index))\n",
    "    \n",
    "plot_bar_graph(sizes,emotions.values())"
   ]
  },
  {
   "cell_type": "markdown",
   "metadata": {
    "deletable": true,
    "editable": true
   },
   "source": [
    "## Save  data for future use"
   ]
  },
  {
   "cell_type": "code",
   "execution_count": null,
   "metadata": {
    "collapsed": false,
    "deletable": true,
    "editable": true
   },
   "outputs": [],
   "source": [
    "def reconstruct(pix_str, size=(48,48)):\n",
    "    pix_arr = np.asarray(pix_str.split()).astype(int)\n",
    "    return pix_arr.reshape(size)\n",
    "\n",
    "\n",
    "train_rows = random.sample(list(training_dataset.index), int(len(training_dataset)))\n",
    "train_data = training_dataset.ix[train_rows]\n",
    "train_data['pixels'] = train_data.pixels.apply(lambda x: reconstruct(x))\n",
    "\n",
    "x_train = np.array([mat for mat in train_data.pixels]) # (n_samples, img_width, img_height)\n",
    "X_train = x_train.reshape(-1, 48,48,1)\n",
    "y_train = np.array(train_data.emotion.values)\n",
    "y_train = to_categorical(y_train-1)\n",
    "\n",
    "test_rows = random.sample(list(testing_dataset.index), int(len(testing_dataset)))\n",
    "test_data = testing_dataset.ix[test_rows]\n",
    "test_data['pixels'] = test_data.pixels.apply(lambda x: reconstruct(x))\n",
    "\n",
    "x_test = np.array([mat for mat in test_data.pixels]) # (n_samples, img_width, img_height)\n",
    "X_test = x_test.reshape(-1, 48,48,1)\n",
    "y_test = np.array(test_data.emotion.values)\n",
    "y_test = to_categorical(y_test-1)\n",
    "\n",
    "np.save(\"data/X_train\", X_train)\n",
    "np.save(\"data/X_test\", X_test)\n",
    "np.save(\"data/y_train\", y_train)\n",
    "np.save(\"data/y_test\", y_test)\n",
    "    \n"
   ]
  },
  {
   "cell_type": "code",
   "execution_count": null,
   "metadata": {
    "collapsed": false,
    "deletable": true,
    "editable": true
   },
   "outputs": [],
   "source": []
  }
 ],
 "metadata": {
  "kernelspec": {
   "display_name": "Python 2",
   "language": "python",
   "name": "python2"
  },
  "language_info": {
   "codemirror_mode": {
    "name": "ipython",
    "version": 2
   },
   "file_extension": ".py",
   "mimetype": "text/x-python",
   "name": "python",
   "nbconvert_exporter": "python",
   "pygments_lexer": "ipython2",
   "version": "2.7.6"
  }
 },
 "nbformat": 4,
 "nbformat_minor": 2
}
